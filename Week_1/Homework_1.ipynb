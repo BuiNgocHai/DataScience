{
 "cells": [
  {
   "cell_type": "code",
   "execution_count": 1,
   "metadata": {
    "scrolled": true
   },
   "outputs": [
    {
     "name": "stdout",
     "output_type": "stream",
     "text": [
      "Current date and time : \n",
      "2018-08-18 23:33:59\n"
     ]
    }
   ],
   "source": [
    "import datetime                             #truy cập Module datetime\n",
    "now = datetime.datetime.now()               #khởi tạo biến now\n",
    "                                            #datetime.datetime cho giá trị ngày và giờ các thuộc tính: năm ,tháng ,ngày,giờ,phút,giây,..\n",
    "                                            #.now() trả về ngày giờ địa phương hiện tại\n",
    "print (\"Current date and time : \")\n",
    "print (now.strftime(\"%Y-%m-%d %H:%M:%S\"))   #strtime: chuyển đổi tuple thành chuỗi xđ bởi tham số : \n",
    "                                                     # %Y: Năm bao gồm cả thế kỷ\n",
    "                                                     # %m: Tháng (01 tới 12)\n",
    "                                                     # %d: Ngày trong tháng (01 đến 31)\n",
    "                                                     # %H: Giờ (00 đến 23)\n",
    "                                                     # %M: Phút\n",
    "                                                     # %S: Giây                  \n",
    "\n"
   ]
  },
  {
   "cell_type": "markdown",
   "metadata": {},
   "source": [
    "Chương trình trên trả về thời gian hiện tại."
   ]
  },
  {
   "cell_type": "code",
   "execution_count": 2,
   "metadata": {},
   "outputs": [
    {
     "name": "stdout",
     "output_type": "stream",
     "text": [
      "20\n",
      "12\n",
      "22\n"
     ]
    }
   ],
   "source": [
    "def sum(x, y):                  #hàm tính toán\n",
    "    sum = x + y                 #cộng hai số\n",
    "    if sum in range(15, 20):    # nếu sum nằm trong khoảng từ 15 đến 20 thì in ra 20\n",
    "        return 20\n",
    "    else:\n",
    "        return sum              #nếu không nằm trong khaongr 15 đến 20 thì in ra sum\n",
    "\n",
    "print(sum(10, 6))               # sum=16 nằm trong khoảng [15,20] nên kết quả là 20\n",
    "print(sum(10, 2))               # sum=12 không nằm trong khoảng [15,20] nên kết quả là 12    \n",
    "print(sum(10, 12))\n"
   ]
  },
  {
   "cell_type": "markdown",
   "metadata": {},
   "source": [
    "Chương trình tính tổng của 2 số, nếu tổng của hai số không nằm trong khoảng [15,20] thì in ra tổng của 2 số nếu không in ra 20."
   ]
  },
  {
   "cell_type": "code",
   "execution_count": null,
   "metadata": {},
   "outputs": [],
   "source": []
  }
 ],
 "metadata": {
  "kernelspec": {
   "display_name": "Python 3",
   "language": "python",
   "name": "python3"
  },
  "language_info": {
   "codemirror_mode": {
    "name": "ipython",
    "version": 3
   },
   "file_extension": ".py",
   "mimetype": "text/x-python",
   "name": "python",
   "nbconvert_exporter": "python",
   "pygments_lexer": "ipython3",
   "version": "3.6.5"
  }
 },
 "nbformat": 4,
 "nbformat_minor": 2
}
