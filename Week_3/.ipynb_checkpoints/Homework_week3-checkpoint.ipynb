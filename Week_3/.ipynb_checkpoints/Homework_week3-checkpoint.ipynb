{
 "cells": [
  {
   "cell_type": "markdown",
   "metadata": {},
   "source": [
    "1.Given a 1D array, negate all elements which are between 3 and 8, in place (not created a new array).\n"
   ]
  },
  {
   "cell_type": "code",
   "execution_count": 1,
   "metadata": {},
   "outputs": [
    {
     "name": "stdout",
     "output_type": "stream",
     "text": [
      "[0 1 2 9]\n"
     ]
    }
   ],
   "source": [
    "import numpy as np \n",
    "a=np.arange(0,10)\n",
    "a=np.delete(a,np.s_[3:9])\n",
    "print(a)"
   ]
  },
  {
   "cell_type": "markdown",
   "metadata": {},
   "source": [
    "2.Create random vector of size 10 and replace the maximum value by 0"
   ]
  },
  {
   "cell_type": "code",
   "execution_count": 2,
   "metadata": {},
   "outputs": [
    {
     "name": "stdout",
     "output_type": "stream",
     "text": [
      "[27 92 66 88  6 61 32 92  4 31]\n",
      "[27  0 66 88  6 61 32 92  4 31]\n"
     ]
    }
   ],
   "source": [
    "import numpy as np\n",
    "a = np.random.randint(0,100,10)\n",
    "print(a)\n",
    "a[np.argmax(a)]=0\n",
    "print(a)"
   ]
  },
  {
   "cell_type": "markdown",
   "metadata": {},
   "source": [
    "3.How to find common values between two arrays?"
   ]
  },
  {
   "cell_type": "code",
   "execution_count": 3,
   "metadata": {},
   "outputs": [
    {
     "name": "stdout",
     "output_type": "stream",
     "text": [
      "[1 2 3 4 5 6 7 8 9]\n",
      "[ 5  6  7  8  9 10 11 12 13]\n",
      "[5 6 7 8 9]\n"
     ]
    }
   ],
   "source": [
    "import numpy as np\n",
    "a = np.arange(1,10)\n",
    "b = np.arange(5,14)\n",
    "print(a)\n",
    "print(b)\n",
    "print(np.intersect1d(a,b))"
   ]
  },
  {
   "cell_type": "markdown",
   "metadata": {},
   "source": [
    "4.Reverse a vector (first element becomes last)"
   ]
  },
  {
   "cell_type": "code",
   "execution_count": 4,
   "metadata": {},
   "outputs": [
    {
     "name": "stdout",
     "output_type": "stream",
     "text": [
      "[9 8 7 6 5 4 3 2 1]\n"
     ]
    }
   ],
   "source": [
    "import numpy as np\n",
    "a=np.arange(1,10)\n",
    "a = a[::-1]\n",
    "print(a)"
   ]
  },
  {
   "cell_type": "markdown",
   "metadata": {},
   "source": [
    "5.Create a 3x3 matrix with values ranging from 0 to 8"
   ]
  },
  {
   "cell_type": "code",
   "execution_count": 5,
   "metadata": {},
   "outputs": [
    {
     "name": "stdout",
     "output_type": "stream",
     "text": [
      "[[5 5 8]\n",
      " [1 7 4]\n",
      " [5 6 7]]\n"
     ]
    }
   ],
   "source": [
    "import numpy as np\n",
    "a = np.random.randint(0,9,(3,3))\n",
    "print(a)"
   ]
  },
  {
   "cell_type": "markdown",
   "metadata": {},
   "source": [
    "6.Find indices of non-zero elements from the array [1,2,0,0,4,0]"
   ]
  },
  {
   "cell_type": "code",
   "execution_count": 6,
   "metadata": {},
   "outputs": [
    {
     "name": "stdout",
     "output_type": "stream",
     "text": [
      "(array([0, 1, 4], dtype=int64),)\n"
     ]
    }
   ],
   "source": [
    "import numpy as np\n",
    "a = np.array([1,2,0,0,4,0])\n",
    "print(np.where(a!=0))"
   ]
  },
  {
   "cell_type": "markdown",
   "metadata": {},
   "source": [
    "7.Create a 3x3x3 array with random values"
   ]
  },
  {
   "cell_type": "code",
   "execution_count": 7,
   "metadata": {},
   "outputs": [
    {
     "name": "stdout",
     "output_type": "stream",
     "text": [
      "[[[0.72483152 0.52611406 0.31241075]\n",
      "  [0.05145245 0.88318941 0.24127084]\n",
      "  [0.39309424 0.15660484 0.2915644 ]]\n",
      "\n",
      " [[0.74371115 0.47246508 0.65431807]\n",
      "  [0.85733239 0.76316862 0.74274358]\n",
      "  [0.43603496 0.78560149 0.4447585 ]]\n",
      "\n",
      " [[0.09073788 0.70218111 0.34285501]\n",
      "  [0.65484667 0.49290338 0.04093208]\n",
      "  [0.27778358 0.34676796 0.25128785]]]\n"
     ]
    }
   ],
   "source": [
    "import numpy as np\n",
    "a = np.random.random((3,3,3))\n",
    "print(a)"
   ]
  },
  {
   "cell_type": "markdown",
   "metadata": {},
   "source": [
    "8.Create a random vector of size 30 and find the mean value"
   ]
  },
  {
   "cell_type": "code",
   "execution_count": 2,
   "metadata": {},
   "outputs": [
    {
     "name": "stdout",
     "output_type": "stream",
     "text": [
      "[0.05247972 0.28597034 0.69478    0.98428151 0.69666914 0.87577892\n",
      " 0.76972369 0.02765039 0.72978542 0.39630335 0.56950178 0.17800352\n",
      " 0.18801683 0.70771154 0.1912658  0.19292345 0.02553897 0.25472476\n",
      " 0.15579094 0.89393799 0.81684326 0.88539083 0.47632887 0.99644047\n",
      " 0.25352969 0.49344476 0.52398942 0.6613088  0.5174262  0.52665304]\n",
      "gia tri trung binh:  0.5007397794791214\n"
     ]
    }
   ],
   "source": [
    "import numpy as np\n",
    "a = np.random.random((30))\n",
    "print(a)\n",
    "print(\"gia tri trung binh: \",np.mean(a))"
   ]
  },
  {
   "cell_type": "markdown",
   "metadata": {},
   "source": [
    "9.Create a 2d array with 1 on the border and 0 inside"
   ]
  },
  {
   "cell_type": "code",
   "execution_count": 12,
   "metadata": {},
   "outputs": [
    {
     "name": "stdout",
     "output_type": "stream",
     "text": [
      "[[1. 1. 1. 1. 1. 1.]\n",
      " [1. 0. 0. 0. 0. 1.]\n",
      " [1. 0. 0. 0. 0. 1.]\n",
      " [1. 0. 0. 0. 0. 1.]\n",
      " [1. 0. 0. 0. 0. 1.]\n",
      " [1. 1. 1. 1. 1. 1.]]\n"
     ]
    }
   ],
   "source": [
    "import numpy as np\n",
    "a = np.ones((6,6))\n",
    "a[1:-1,1:-1] = 0\n",
    "print(a)"
   ]
  },
  {
   "cell_type": "markdown",
   "metadata": {},
   "source": [
    "10.Given an array x of 20 integers in the range (0, 100) and an random float in the range (0, 20). Find the index of x where the value at that index is closest to y."
   ]
  },
  {
   "cell_type": "code",
   "execution_count": 1,
   "metadata": {},
   "outputs": [
    {
     "name": "stdout",
     "output_type": "stream",
     "text": [
      "[22 37 75 37 77 83 87 49 84 92 56 56 76  2 88 58 60 62 88 73]\n",
      "14.073022116131568\n",
      " index of x where the value at that index is closest to y:  0\n",
      " value at that index is closest to yin x:  22\n"
     ]
    }
   ],
   "source": [
    "import numpy as np\n",
    "x = np.random.randint(0, 100, 20)\n",
    "y = np.random.uniform(0, 20)\n",
    "y\n",
    "print(x)\n",
    "print(y)\n",
    "index = np.argmin(np.abs(np.array(x)-y))\n",
    "print(\" index of x where the value at that index is closest to y: \",index)\n",
    "print(\" value at that index is closest to yin x: \",x[index])"
   ]
  },
  {
   "cell_type": "code",
   "execution_count": null,
   "metadata": {},
   "outputs": [],
   "source": []
  }
 ],
 "metadata": {
  "kernelspec": {
   "display_name": "Python 3",
   "language": "python",
   "name": "python3"
  },
  "language_info": {
   "codemirror_mode": {
    "name": "ipython",
    "version": 3
   },
   "file_extension": ".py",
   "mimetype": "text/x-python",
   "name": "python",
   "nbconvert_exporter": "python",
   "pygments_lexer": "ipython3",
   "version": "3.6.5"
  }
 },
 "nbformat": 4,
 "nbformat_minor": 2
}
